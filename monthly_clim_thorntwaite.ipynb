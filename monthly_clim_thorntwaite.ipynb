{
 "cells": [
  {
   "cell_type": "markdown",
   "metadata": {},
   "source": [
    "# Calculating Climate Fields"
   ]
  },
  {
   "cell_type": "code",
   "execution_count": 19,
   "metadata": {},
   "outputs": [],
   "source": [
    "#############################################\n",
    "#\n",
    "# Load Python Libraries Because I am use to \n",
    "# doing them up-front with NCAR Command Language\n",
    "#\n",
    "\n",
    "#\n",
    "# Numerical Python\n",
    "#\n",
    "\n",
    "import numpy as np\n",
    "\n",
    "#\n",
    "# Matplotlib plotting libraries (accessed by xarray)\n",
    "#\n",
    "\n",
    "import matplotlib.pyplot as plt\n",
    "\n",
    "#\n",
    "# Remove File HTML Access\n",
    "#\n",
    "\n",
    "import urllib3 as ur\n",
    "\n",
    "#\n",
    "# Remove Xarray Scientific Data Model Access\n",
    "#\n",
    "\n",
    "import xarray as xr\n",
    "\n",
    "#\n",
    "# Remove Xarray Scientific Data Model Access\n",
    "#\n",
    "\n",
    "import datetime as dt\n",
    "\n",
    "#\n",
    "# Animation and Related Graphics Support\n",
    "#\n",
    "\n",
    "import matplotlib.animation as animation\n",
    "\n",
    "import IPython.display as display\n",
    "\n",
    "#\n",
    "#############################################"
   ]
  },
  {
   "cell_type": "code",
   "execution_count": 20,
   "metadata": {},
   "outputs": [],
   "source": [
    "url_root = 'http://kyrill.ias.sdsmt.edu:8080/thredds/dodsC/LOCA_NGP/Specific_Regional_Aggregate_Sets/cheyenne_basin/DERIVED/Thornwaite_Budget/30-yr/'"
   ]
  },
  {
   "cell_type": "code",
   "execution_count": 21,
   "metadata": {},
   "outputs": [],
   "source": [
    "file_name = 'LOCAL_TREWARTHA_ALL_ENSEMBLES_1950-1979.nc'"
   ]
  },
  {
   "cell_type": "code",
   "execution_count": null,
   "metadata": {},
   "outputs": [
    {
     "name": "stdout",
     "output_type": "stream",
     "text": [
      "http://kyrill.ias.sdsmt.edu:8080/thredds/dodsC/LOCA_NGP/Specific_Regional_Aggregate_Sets/cheyenne_basin/DERIVED/Thornwaite_Budget/30-yr/LOCAL_TREWARTHA_ALL_ENSEMBLES_1950-1979.nc\n"
     ]
    }
   ],
   "source": [
    "full_url   = url_root + file_name\n",
    "print(full_url)\n",
    "ncf = xr.load_dataset(full_url)"
   ]
  },
  {
   "cell_type": "code",
   "execution_count": null,
   "metadata": {},
   "outputs": [],
   "source": [
    "storage = ncf.storage"
   ]
  },
  {
   "cell_type": "code",
   "execution_count": null,
   "metadata": {},
   "outputs": [],
   "source": []
  }
 ],
 "metadata": {
  "kernelspec": {
   "display_name": "Python 3",
   "language": "python",
   "name": "python3"
  },
  "language_info": {
   "codemirror_mode": {
    "name": "ipython",
    "version": 3
   },
   "file_extension": ".py",
   "mimetype": "text/x-python",
   "name": "python",
   "nbconvert_exporter": "python",
   "pygments_lexer": "ipython3",
   "version": "3.8.3"
  }
 },
 "nbformat": 4,
 "nbformat_minor": 4
}
